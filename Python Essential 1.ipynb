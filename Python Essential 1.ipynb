{
 "cells": [
  {
   "cell_type": "markdown",
   "metadata": {},
   "source": [
    "# Python Programming: Essentials 1\n",
    "\n",
    "#### Variables are used to store values. \n",
    "\n",
    "#### A string is a series of characters, surrounded by single or double quotes. "
   ]
  },
  {
   "cell_type": "markdown",
   "metadata": {},
   "source": [
    "Hello world"
   ]
  },
  {
   "cell_type": "code",
   "execution_count": 3,
   "metadata": {},
   "outputs": [
    {
     "name": "stdout",
     "output_type": "stream",
     "text": [
      "Hello World\n"
     ]
    }
   ],
   "source": [
    "print(\"Hello World\") #print() is your first function"
   ]
  },
  {
   "cell_type": "markdown",
   "metadata": {},
   "source": [
    "Hello world via a variable. NOTE PYTHONE IS CASE SENSITIVE."
   ]
  },
  {
   "cell_type": "code",
   "execution_count": 4,
   "metadata": {},
   "outputs": [
    {
     "name": "stdout",
     "output_type": "stream",
     "text": [
      "Hello Class!\n"
     ]
    }
   ],
   "source": [
    "message = \"Hello Class!\" # assigning a string to a variable\n",
    "print(message) # message is a variable"
   ]
  },
  {
   "cell_type": "markdown",
   "metadata": {},
   "source": [
    "\n",
    "\n",
    "Concatenation (combining strings) "
   ]
  },
  {
   "cell_type": "code",
   "execution_count": 8,
   "metadata": {},
   "outputs": [
    {
     "name": "stdout",
     "output_type": "stream",
     "text": [
      "Sam Muller \n"
     ]
    }
   ],
   "source": [
    "first_name = 'Sam' \n",
    "last_name = 'Muller' \n",
    "full_name = first_name + ' ' + last_name +' '\n",
    "print(full_name)"
   ]
  },
  {
   "cell_type": "code",
   "execution_count": 11,
   "metadata": {},
   "outputs": [
    {
     "data": {
      "text/plain": [
       "'Sam Muller '"
      ]
     },
     "execution_count": 11,
     "metadata": {},
     "output_type": "execute_result"
    }
   ],
   "source": [
    "full_name"
   ]
  },
  {
   "cell_type": "code",
   "execution_count": 9,
   "metadata": {},
   "outputs": [
    {
     "name": "stdout",
     "output_type": "stream",
     "text": [
      "Sam Muller Sam Muller Sam Muller Sam Muller Sam Muller \n"
     ]
    }
   ],
   "source": [
    "# little funny one: multiply words! \n",
    "print(full_name * 5)"
   ]
  },
  {
   "cell_type": "code",
   "execution_count": 10,
   "metadata": {},
   "outputs": [
    {
     "name": "stdout",
     "output_type": "stream",
     "text": [
      "Sam Muller\n"
     ]
    }
   ],
   "source": [
    "print(first_name , last_name ) # the comma adds a space automatically"
   ]
  },
  {
   "cell_type": "markdown",
   "metadata": {},
   "source": [
    "\n",
    "\n",
    "## List\n",
    "\n",
    "A list stores a series of items in a particular order. \n",
    "\n",
    "You access items using an index, or within a loop. \n",
    "Make a list "
   ]
  },
  {
   "cell_type": "code",
   "execution_count": 12,
   "metadata": {},
   "outputs": [
    {
     "name": "stdout",
     "output_type": "stream",
     "text": [
      "['mountain', 'road', 'race', 'penny-farthing']\n"
     ]
    }
   ],
   "source": [
    "bicycles = ['mountain', 'road', 'race', 'penny-farthing']\n",
    "\n",
    "print(bicycles)\n"
   ]
  },
  {
   "cell_type": "code",
   "execution_count": 14,
   "metadata": {},
   "outputs": [
    {
     "name": "stdout",
     "output_type": "stream",
     "text": [
      "['mountain', 'road', 'race', 'penny-farthing', 'raleigh', 'brompton']\n"
     ]
    }
   ],
   "source": [
    "addon = ['raleigh' , 'brompton'] \n",
    "\n",
    "bicycles = bicycles + addon # add a list to a list\n",
    "\n",
    "print(bicycles)\n",
    "#YOU CANT ADD A STRING TO A LIST. e.g.\n",
    "# bicycles = bicycles + 'peugeot'\n",
    "#Instead use:\n",
    "# bicycles = bicycles + ['peugeot']\n"
   ]
  },
  {
   "cell_type": "markdown",
   "metadata": {},
   "source": [
    "Get the first item in the list"
   ]
  },
  {
   "cell_type": "code",
   "execution_count": 17,
   "metadata": {},
   "outputs": [
    {
     "name": "stdout",
     "output_type": "stream",
     "text": [
      "mountain\n",
      "mountain\n"
     ]
    }
   ],
   "source": [
    "first_bike = bicycles[0]  # list[position]\n",
    "print (first_bike)\n",
    "print (bicycles[0])"
   ]
  },
  {
   "cell_type": "code",
   "execution_count": 16,
   "metadata": {},
   "outputs": [
    {
     "name": "stdout",
     "output_type": "stream",
     "text": [
      "race\n"
     ]
    }
   ],
   "source": [
    "third_bike = bicycles[2]  # list[position]\n",
    "print (third_bike)"
   ]
  },
  {
   "cell_type": "markdown",
   "metadata": {},
   "source": [
    "Get the last item in the list"
   ]
  },
  {
   "cell_type": "code",
   "execution_count": 18,
   "metadata": {},
   "outputs": [
    {
     "name": "stdout",
     "output_type": "stream",
     "text": [
      "brompton\n"
     ]
    }
   ],
   "source": [
    "last_bike = bicycles[-1]\n",
    "print(last_bike)\n"
   ]
  },
  {
   "cell_type": "code",
   "execution_count": null,
   "metadata": {},
   "outputs": [],
   "source": [
    "# write code to print the penultimate (i.e. one before last) bike\n",
    "second_last = bicycles[4]\n",
    "print(second_last)"
   ]
  },
  {
   "cell_type": "code",
   "execution_count": null,
   "metadata": {},
   "outputs": [],
   "source": [
    "one_b4_last = bicycles[-2]\n",
    "print(one_b4_last)"
   ]
  },
  {
   "cell_type": "markdown",
   "metadata": {},
   "source": [
    "# Working with Strings\n",
    "\n",
    "## split() function"
   ]
  },
  {
   "cell_type": "code",
   "execution_count": 20,
   "metadata": {},
   "outputs": [
    {
     "name": "stdout",
     "output_type": "stream",
     "text": [
      "['Ask:', \"'UK\", 'house', 'prices', 'grew', 'two', 'per', 'cent', 'year', 'on', 'year', 'for', \"September.'\"]\n"
     ]
    }
   ],
   "source": [
    "# the function split() cuts a string at specified character position then store the result in a list\n",
    "\n",
    "sentence = \"Ask: 'UK house prices grew two per cent year on year for September.'\"\n",
    "\n",
    "words = sentence.split(' ')\n",
    "\n",
    "print(words)"
   ]
  },
  {
   "cell_type": "code",
   "execution_count": 21,
   "metadata": {},
   "outputs": [
    {
     "name": "stdout",
     "output_type": "stream",
     "text": [
      "['https:', '', 'www.standard.co.uk', 'news', 'politics', 'brexit-secretary-dominic-raab-quits-his-post-a3990626.html']\n"
     ]
    }
   ],
   "source": [
    "url = 'https://www.standard.co.uk/news/politics/brexit-secretary-dominic-raab-quits-his-post-a3990626.html'\n",
    "\n",
    "elements = url.split('/')\n",
    "print(elements)"
   ]
  },
  {
   "cell_type": "code",
   "execution_count": 22,
   "metadata": {},
   "outputs": [
    {
     "name": "stdout",
     "output_type": "stream",
     "text": [
      "['trainingsupport', 'pairview.co.uk']\n",
      "trainingsupport pairview.co.uk\n"
     ]
    }
   ],
   "source": [
    "# adapt to get the first and second part from an email address\n",
    "\n",
    "email = \"trainingsupport@pairview.co.uk\"\n",
    "\n",
    "########## your code below#############\n",
    "\n",
    "parts = email.split('@')\n",
    "print(parts)\n",
    "\n",
    "individual = parts[0]\n",
    "company = parts[-1]\n",
    "print(individual,company)"
   ]
  },
  {
   "cell_type": "code",
   "execution_count": null,
   "metadata": {},
   "outputs": [],
   "source": [
    "# write code to get the first name and the last name from the full name that \n",
    "# can include 1 or many middle names\n",
    "\n",
    "################your code################\n",
    "myname = \"Elizabeth Alexandra Mary Windsor\"\n",
    "\n",
    "parts = myname.split(' ')\n",
    "print(parts)"
   ]
  },
  {
   "cell_type": "code",
   "execution_count": 23,
   "metadata": {},
   "outputs": [
    {
     "name": "stdout",
     "output_type": "stream",
     "text": [
      "['Elizabeth', 'Alexandra', 'Mary', 'Windsor']\n",
      "Elizabeth Windsor\n"
     ]
    }
   ],
   "source": [
    "first_name= parts[0]\n",
    "last_name = parts[-1]\n",
    "print(first_name,last_name)"
   ]
  },
  {
   "cell_type": "code",
   "execution_count": 30,
   "metadata": {},
   "outputs": [
    {
     "data": {
      "text/plain": [
       "['Eliz', 'beth Alex', 'ndr', ' M', 'ry Windsor']"
      ]
     },
     "execution_count": 30,
     "metadata": {},
     "output_type": "execute_result"
    }
   ],
   "source": [
    "cutfurther = myname.split('a')\n",
    "cutfurther"
   ]
  },
  {
   "cell_type": "markdown",
   "metadata": {},
   "source": [
    "## join() function"
   ]
  },
  {
   "cell_type": "code",
   "execution_count": 33,
   "metadata": {},
   "outputs": [
    {
     "name": "stdout",
     "output_type": "stream",
     "text": [
      "Ask: 'UK house prices grew two per cent year on year for September.'\n"
     ]
    }
   ],
   "source": [
    "# the function join() take a list of strings and concatenate its elements separated by the character passed to it\n",
    "separator =' '\n",
    "sentence = separator.join(words)\n",
    "# sentence = ' '.join(words)\n",
    "\n",
    "print(sentence)"
   ]
  },
  {
   "cell_type": "markdown",
   "metadata": {},
   "source": [
    "## strip() function"
   ]
  },
  {
   "cell_type": "code",
   "execution_count": 48,
   "metadata": {},
   "outputs": [
    {
     "name": "stdout",
     "output_type": "stream",
     "text": [
      "this is a polluted # string example\n"
     ]
    }
   ],
   "source": [
    "# the function strip() removes unwanted characters (spaces usually) \n",
    "# at the beginning and ending of a string\n",
    "stri = \"0000000@@this is a polluted # string example@@0000000\"\n",
    "clean = stri.strip('0').strip('@').strip()\n",
    "print(clean)\n",
    "\n",
    "#strip() is equivalent to strip(' ')"
   ]
  },
  {
   "cell_type": "markdown",
   "metadata": {},
   "source": [
    "## replace(old_word,new_word) function"
   ]
  },
  {
   "cell_type": "code",
   "execution_count": 49,
   "metadata": {},
   "outputs": [
    {
     "name": "stdout",
     "output_type": "stream",
     "text": [
      "this is a cleaned string example\n"
     ]
    }
   ],
   "source": [
    "# and now I present you the function replace\n",
    "clean = clean.replace('polluted # ','cleaned ')\n",
    "print(clean)"
   ]
  },
  {
   "cell_type": "markdown",
   "metadata": {},
   "source": [
    "# for in statement\n",
    "### Looping through a list "
   ]
  },
  {
   "cell_type": "code",
   "execution_count": 58,
   "metadata": {},
   "outputs": [
    {
     "name": "stdout",
     "output_type": "stream",
     "text": [
      "1 :  mountain\n",
      "2 :  road\n",
      "3 :  race\n",
      "4 :  penny-farthing\n",
      "this is outside the loop\n"
     ]
    }
   ],
   "source": [
    "bicycles = ['mountain', 'road', 'race', 'penny-farthing']\n",
    "\n",
    "c = 1\n",
    "\n",
    "for bike in bicycles: \n",
    "    print(c, ': ',bike)#anything indented is in the for loop.\n",
    "    c = c+1            #indentation has to be the same. 4 spaces by default.\n",
    "    \n",
    "print('this is outside the loop')"
   ]
  },
  {
   "cell_type": "markdown",
   "metadata": {},
   "source": [
    "## range () function\n",
    "    "
   ]
  },
  {
   "cell_type": "code",
   "execution_count": 59,
   "metadata": {},
   "outputs": [
    {
     "name": "stdout",
     "output_type": "stream",
     "text": [
      "0\n",
      "1\n",
      "2\n",
      "3\n"
     ]
    }
   ],
   "source": [
    "for i in range(0,4): #for i = 0 to 3 do in C++\n",
    "    print(i)"
   ]
  },
  {
   "cell_type": "code",
   "execution_count": 60,
   "metadata": {},
   "outputs": [
    {
     "name": "stdout",
     "output_type": "stream",
     "text": [
      "0\n",
      "1\n",
      "2\n",
      "3\n"
     ]
    }
   ],
   "source": [
    "for i in range(4): #equivelent to range(0,4,1)\n",
    "    print(i)"
   ]
  },
  {
   "cell_type": "code",
   "execution_count": 61,
   "metadata": {},
   "outputs": [
    {
     "name": "stdout",
     "output_type": "stream",
     "text": [
      "1\n",
      "3\n",
      "5\n"
     ]
    }
   ],
   "source": [
    "for i in range(1,7,2): #the list end at 6 and starts at 1, that is why 7 is not included\n",
    "    print(i)"
   ]
  },
  {
   "cell_type": "code",
   "execution_count": 62,
   "metadata": {},
   "outputs": [
    {
     "name": "stdout",
     "output_type": "stream",
     "text": [
      "1  :  mountain\n",
      "2  :  road\n",
      "3  :  race\n",
      "4  :  penny-farthing\n"
     ]
    }
   ],
   "source": [
    "# loop above equivalent to \n",
    "\n",
    "for i in range(0,4): #for i = 0 to 3 do in C++\n",
    "    print(i+1, ' : ', bicycles[i])  #We are not assigning anything to i, just printing it."
   ]
  },
  {
   "cell_type": "code",
   "execution_count": null,
   "metadata": {},
   "outputs": [],
   "source": [
    "# range function tester\n"
   ]
  },
  {
   "cell_type": "code",
   "execution_count": 63,
   "metadata": {},
   "outputs": [
    {
     "name": "stdout",
     "output_type": "stream",
     "text": [
      "0\n",
      "1\n",
      "2\n",
      "3\n",
      "4\n",
      "5\n",
      "6\n",
      "7\n"
     ]
    }
   ],
   "source": [
    "for number in range(8): # one only attribute = range(0,8)\n",
    "    print(number)"
   ]
  },
  {
   "cell_type": "code",
   "execution_count": 64,
   "metadata": {},
   "outputs": [
    {
     "name": "stdout",
     "output_type": "stream",
     "text": [
      "2\n",
      "3\n",
      "4\n",
      "5\n",
      "6\n",
      "7\n"
     ]
    }
   ],
   "source": [
    "for number in range(2,8): # first is start , second the one before\n",
    "    print(number)"
   ]
  },
  {
   "cell_type": "code",
   "execution_count": 65,
   "metadata": {},
   "outputs": [
    {
     "name": "stdout",
     "output_type": "stream",
     "text": [
      "2\n",
      "4\n",
      "6\n"
     ]
    }
   ],
   "source": [
    "for number in range(2,8,2): # first is start , second the one before the last # 3rd the step\n",
    "    print(number)"
   ]
  },
  {
   "cell_type": "markdown",
   "metadata": {},
   "source": [
    "## Adding items to a list"
   ]
  },
  {
   "cell_type": "code",
   "execution_count": null,
   "metadata": {},
   "outputs": [],
   "source": [
    "# add another string\n",
    "bicycles.append('peugeot')\n",
    "print(bicycles)"
   ]
  },
  {
   "cell_type": "code",
   "execution_count": 70,
   "metadata": {},
   "outputs": [
    {
     "name": "stdout",
     "output_type": "stream",
     "text": [
      "['mountain', 'road', 'race', 'penny-farthing', 'peugeot', 'peugeot', 'peugeot', 'peugeot', 'peugeot', 'peugeot']\n"
     ]
    }
   ],
   "source": [
    "# equivalent to \n",
    "bicycles = bicycles  +  ['peugeot']\n",
    "print(bicycles)"
   ]
  },
  {
   "cell_type": "code",
   "execution_count": 76,
   "metadata": {},
   "outputs": [],
   "source": [
    "#bicycles.remove('peugeot') #removes the 1t instance in the list of the attribute\n",
    "#print(bicycles)"
   ]
  },
  {
   "cell_type": "code",
   "execution_count": null,
   "metadata": {},
   "outputs": [],
   "source": [
    "#for i in range(0,4): #for i = 0 to 3 do in C++\n",
    "#    bicycles[i] = bicycles[i]+ ' bike'"
   ]
  },
  {
   "cell_type": "code",
   "execution_count": 77,
   "metadata": {},
   "outputs": [
    {
     "name": "stdout",
     "output_type": "stream",
     "text": [
      "['mountain', 'road', 'BMX', 'race', 'penny-farthing', 'peugeot']\n"
     ]
    }
   ],
   "source": [
    "# aside: insert\n",
    "bicycles.insert(2,'BMX')\n",
    "print(bicycles)"
   ]
  },
  {
   "cell_type": "code",
   "execution_count": 79,
   "metadata": {},
   "outputs": [
    {
     "name": "stdout",
     "output_type": "stream",
     "text": [
      "['mountain', 'road', 'race', 'penny-farthing', 'peugeot', 22]\n"
     ]
    }
   ],
   "source": [
    "# add a number!\n",
    "bicycles.append(22)\n",
    "print(bicycles)"
   ]
  },
  {
   "cell_type": "code",
   "execution_count": 78,
   "metadata": {},
   "outputs": [
    {
     "name": "stdout",
     "output_type": "stream",
     "text": [
      "['mountain', 'road', 'race', 'penny-farthing', 'peugeot']\n"
     ]
    }
   ],
   "source": [
    "bicycles.remove('BMX') #removes the 1t instance in the list of the attribute\n",
    "print(bicycles)"
   ]
  },
  {
   "cell_type": "code",
   "execution_count": 83,
   "metadata": {},
   "outputs": [
    {
     "name": "stdout",
     "output_type": "stream",
     "text": [
      "['mountain', 'road', 'race', 'penny-farthing', 'peugeot', ['derailleur', 'shimano']]\n"
     ]
    }
   ],
   "source": [
    "bicycles.pop() # removes the last item in the list\n",
    "print(bicycles)\n"
   ]
  },
  {
   "cell_type": "code",
   "execution_count": 82,
   "metadata": {},
   "outputs": [
    {
     "name": "stdout",
     "output_type": "stream",
     "text": [
      "['mountain', 'road', 'race', 'penny-farthing', 'peugeot', ['derailleur', 'shimano'], ['derailleur', 'shimano']]\n"
     ]
    }
   ],
   "source": [
    "# add a list!!\n",
    "bicycles.append(['derailleur','shimano']) \n",
    "print(bicycles)\n",
    "\n",
    "#YOU CAN ADD ANYTHING!!!"
   ]
  },
  {
   "cell_type": "code",
   "execution_count": 86,
   "metadata": {},
   "outputs": [
    {
     "name": "stdout",
     "output_type": "stream",
     "text": [
      "shimano\n",
      "m\n"
     ]
    }
   ],
   "source": [
    "# Code for accessing the second item in the list inside the list\n",
    "print(bicycles[-1][-1])\n",
    "print(bicycles[0][0]) #strings are treated like lists you can select the first letter of the string.\n"
   ]
  },
  {
   "cell_type": "markdown",
   "metadata": {},
   "source": [
    "## Making numerical lists"
   ]
  },
  {
   "cell_type": "code",
   "execution_count": 87,
   "metadata": {},
   "outputs": [
    {
     "name": "stdout",
     "output_type": "stream",
     "text": [
      "[1, 8, 27, 64, 125, 216]\n"
     ]
    }
   ],
   "source": [
    "# initialisation \n",
    "cubes = [] \n",
    "\n",
    "for number in range(1, 7): \n",
    "    cubes.append(number**3) # **3 means to the power 3\n",
    "\n",
    "print(cubes)\n",
    "\n",
    "# ** operator is power"
   ]
  },
  {
   "cell_type": "code",
   "execution_count": 105,
   "metadata": {},
   "outputs": [
    {
     "name": "stdout",
     "output_type": "stream",
     "text": [
      "10.0\n"
     ]
    }
   ],
   "source": [
    "# write code to calculate the average of numbers from 5 to 15\n",
    "# the average is the sum divided by the number of elements\n",
    "\n",
    "series = [5,6,7,8,9,10,11,12,13,14,15]\n",
    "#range(5,16)\n",
    "\n",
    "#If you re-run this code it will give you values from the previous run, that is why initialise.\n",
    "#print(total)\n",
    "#print(count)\n",
    "\n",
    "# initialisation\n",
    "total = 0\n",
    "count = 0\n",
    "\n",
    "# in loop\n",
    "for number in series:\n",
    "    total = total + number\n",
    "    count = count + 1\n",
    "\n",
    "#after loop\n",
    "average = total / count\n",
    "print(average)  "
   ]
  },
  {
   "cell_type": "code",
   "execution_count": null,
   "metadata": {},
   "outputs": [],
   "source": []
  },
  {
   "cell_type": "markdown",
   "metadata": {},
   "source": [
    "## len() function"
   ]
  },
  {
   "cell_type": "code",
   "execution_count": 106,
   "metadata": {},
   "outputs": [
    {
     "name": "stdout",
     "output_type": "stream",
     "text": [
      "11\n",
      "6\n",
      "8\n"
     ]
    }
   ],
   "source": [
    "# the amazing Len function - aka the length of everything\n",
    "#len()    \n",
    "   \n",
    "l = len (range(5,16)) #number of\n",
    "print(l)\n",
    "\n",
    "print( len (bicycles)) #number of\n",
    "\n",
    "print(len('guardian')) #number of characters"
   ]
  },
  {
   "cell_type": "markdown",
   "metadata": {},
   "source": [
    "# List comprehensions : Advanced\n"
   ]
  },
  {
   "cell_type": "code",
   "execution_count": null,
   "metadata": {},
   "outputs": [],
   "source": [
    "cubes = [x**3 for x in range(1, 7)] \n",
    "print(cubes)\n",
    "# equivalent to "
   ]
  },
  {
   "cell_type": "code",
   "execution_count": null,
   "metadata": {},
   "outputs": [],
   "source": [
    "cubes = [] \n",
    "for x in range(1, 7): \n",
    "    cubes.append(x**3) \n",
    "print(cubes)"
   ]
  },
  {
   "cell_type": "markdown",
   "metadata": {},
   "source": [
    "## List comprehension exercise \n",
    "\n",
    "Write one line of Python that takes this list and makes a new list that has only the even elements of this list in it."
   ]
  },
  {
   "cell_type": "code",
   "execution_count": null,
   "metadata": {},
   "outputs": [],
   "source": [
    "list = [1, 4, 9, 16, 25, 36, 49, 64, 81, 100]\n"
   ]
  },
  {
   "cell_type": "markdown",
   "metadata": {},
   "source": [
    "## Slicing a list "
   ]
  },
  {
   "cell_type": "code",
   "execution_count": 107,
   "metadata": {},
   "outputs": [
    {
     "name": "stdout",
     "output_type": "stream",
     "text": [
      "['Sue', 'Elliot']\n"
     ]
    }
   ],
   "source": [
    "finishers = ['Sue','Elliot', 'Kumiko','Damien'] \n",
    "first_two = finishers[:2] # all up to 2 but not 2\n",
    "print(first_two)"
   ]
  },
  {
   "cell_type": "code",
   "execution_count": 108,
   "metadata": {},
   "outputs": [
    {
     "name": "stdout",
     "output_type": "stream",
     "text": [
      "['Kumiko', 'Damien']\n"
     ]
    }
   ],
   "source": [
    "last_two = finishers[2:] # from 2 (included) up to end\n",
    "print(last_two)"
   ]
  },
  {
   "cell_type": "code",
   "execution_count": 109,
   "metadata": {},
   "outputs": [
    {
     "name": "stdout",
     "output_type": "stream",
     "text": [
      "['Sue', 'Elliot', 'Kumiko', 'Damien']\n"
     ]
    }
   ],
   "source": [
    "f = finishers[:2] + finishers[2:]\n",
    "print(f)"
   ]
  },
  {
   "cell_type": "code",
   "execution_count": 110,
   "metadata": {},
   "outputs": [
    {
     "name": "stdout",
     "output_type": "stream",
     "text": [
      "['Kumiko', 'Damien']\n"
     ]
    }
   ],
   "source": [
    "last_two = finishers[-2:]\n",
    "print(last_two)"
   ]
  },
  {
   "cell_type": "markdown",
   "metadata": {},
   "source": [
    "## index() function\n",
    "index function returns the first occurence in the list"
   ]
  },
  {
   "cell_type": "code",
   "execution_count": 113,
   "metadata": {},
   "outputs": [
    {
     "name": "stdout",
     "output_type": "stream",
     "text": [
      "2\n"
     ]
    }
   ],
   "source": [
    "finishers = ['Sue','Elliot', 'Kumiko','Damien','Elliot'] \n",
    "number = finishers.index('Kumiko')\n",
    "print(number)"
   ]
  },
  {
   "cell_type": "code",
   "execution_count": 114,
   "metadata": {},
   "outputs": [
    {
     "name": "stdout",
     "output_type": "stream",
     "text": [
      "Index | Finisher\n",
      "0     |  Sue\n",
      "1     |  Elliot\n",
      "2     |  Kumiko\n",
      "3     |  Damien\n",
      "1     |  Elliot\n"
     ]
    }
   ],
   "source": [
    "# want a table with the position next to the element\n",
    "finishers = ['Sue','Elliot', 'Kumiko','Damien','Elliot'] \n",
    "print('Index | Finisher')\n",
    "for f in finishers:\n",
    "    print(finishers.index(f), '    | ',f)\n",
    "# index function returns the FIRST occurence in the list\n",
    "# a.k.a. vlookup in Excel"
   ]
  },
  {
   "cell_type": "code",
   "execution_count": 115,
   "metadata": {},
   "outputs": [
    {
     "name": "stdout",
     "output_type": "stream",
     "text": [
      "Index | Finisher\n",
      "0  |  Sue\n",
      "1  |  Elliot\n",
      "2  |  Kumiko\n",
      "3  |  Damien\n",
      "4  |  Elliot\n"
     ]
    }
   ],
   "source": [
    "finishers = ['Sue','Elliot', 'Kumiko','Damien','Elliot'] \n",
    "L =len(finishers)\n",
    "print('Index | Finisher')\n",
    "for number in range(0,L):\n",
    "    print(number  , ' | ',finishers[number])\n",
    "    "
   ]
  },
  {
   "cell_type": "markdown",
   "metadata": {},
   "source": [
    "Copying a list"
   ]
  },
  {
   "cell_type": "code",
   "execution_count": 116,
   "metadata": {},
   "outputs": [
    {
     "name": "stdout",
     "output_type": "stream",
     "text": [
      "['mountain', 'road', 'race', 'penny-farthing', 'peugeot', ['derailleur', 'shimano']]\n"
     ]
    }
   ],
   "source": [
    "copy_of_bicycles = bicycles[:] \n",
    "print(copy_of_bicycles)\n",
    "\n",
    "# if you  do copy_of_bicycles = bicycles, copy_of_bicycles will be an alias to bicycles.\n",
    "# for certain functions."
   ]
  },
  {
   "cell_type": "markdown",
   "metadata": {},
   "source": [
    "### Tuples\n",
    "\n",
    "Tuples are similar to lists, but the items in a tuple can't be modified. "
   ]
  },
  {
   "cell_type": "markdown",
   "metadata": {},
   "source": [
    "Making a tuple "
   ]
  },
  {
   "cell_type": "code",
   "execution_count": 117,
   "metadata": {},
   "outputs": [
    {
     "name": "stdout",
     "output_type": "stream",
     "text": [
      "(35, 'Data Science', [1, 2, 3, 4, 5], (1, 7))\n",
      "['raleigh', 'road', 'race', 'penny-farthing', 'peugeot', ['derailleur', 'shimano']]\n"
     ]
    }
   ],
   "source": [
    "# tuple of numbers\n",
    "dimensions = (1920, 1080)\n",
    "\n",
    "# tuples of tuples\n",
    "pushbikes= ('mountain', 'road', 'race', 'penny-farthing')\n",
    "\n",
    "#tuple of different types of variables\n",
    "hold_all = (35, 'Data Science', [1,2,3,4,5], (1,7))\n",
    "\n",
    "print(hold_all)\n",
    "\n",
    "# lists can be modified \n",
    "bicycles[0]='raleigh'\n",
    "print(bicycles)"
   ]
  },
  {
   "cell_type": "code",
   "execution_count": 118,
   "metadata": {},
   "outputs": [
    {
     "name": "stdout",
     "output_type": "stream",
     "text": [
      "35\n"
     ]
    }
   ],
   "source": [
    "#hold_all[0]= 34\n",
    "\n",
    "print(hold_all[0])"
   ]
  },
  {
   "cell_type": "markdown",
   "metadata": {},
   "source": [
    "### If statements are used to test for particular conditions and respond appropriately.\n",
    "\n",
    "# if (condition) : action"
   ]
  },
  {
   "cell_type": "code",
   "execution_count": 119,
   "metadata": {},
   "outputs": [
    {
     "name": "stdout",
     "output_type": "stream",
     "text": [
      "You may be able to vote\n"
     ]
    }
   ],
   "source": [
    "# If statement\n",
    "age = 25\n",
    "commonwealth = True\n",
    "if age >= 18: \n",
    "    print(\"You may be able to vote\")"
   ]
  },
  {
   "cell_type": "code",
   "execution_count": 124,
   "metadata": {},
   "outputs": [
    {
     "name": "stdout",
     "output_type": "stream",
     "text": [
      "You can vote!\n"
     ]
    }
   ],
   "source": [
    "if (age >= 18 and commonwealth == True):\n",
    "    print(\"You can vote!\") \n",
    " "
   ]
  },
  {
   "cell_type": "code",
   "execution_count": 125,
   "metadata": {},
   "outputs": [
    {
     "name": "stdout",
     "output_type": "stream",
     "text": [
      "15\n"
     ]
    }
   ],
   "source": [
    "#If-elif-else statements \n",
    "if age < 4: \n",
    "    price = 0\n",
    "    print('Kids go free')\n",
    "elif age < 18: price = 10 \n",
    "elif age > 65: price = 12\n",
    "else: price = 15\n",
    "\n",
    "print(price)"
   ]
  },
  {
   "cell_type": "markdown",
   "metadata": {},
   "source": [
    "Conditions\n",
    "\n",
    "tests equals\n",
    "x == 42 \n",
    "\n",
    "not equal \n",
    "x != 42  \n",
    "\n",
    "greater than \n",
    "x > 42 \n",
    "\n",
    "greater than or equal to\n",
    "x >= 42 \n",
    "\n",
    "less than\n",
    "x < 42 \n",
    "\n",
    "less than or equal to\n",
    "x <= 42"
   ]
  },
  {
   "cell_type": "code",
   "execution_count": 127,
   "metadata": {},
   "outputs": [
    {
     "name": "stdout",
     "output_type": "stream",
     "text": [
      "True\n",
      "False\n"
     ]
    }
   ],
   "source": [
    "x = 57 # i assign 57 to x\n",
    "# (x<42) is  a test with a value of True of False\n",
    "#print('is x smaller than 42?', x < 42)\n",
    "\n",
    "X =(x > 42 )\n",
    "\n",
    "print(X)\n",
    "print(x<42)\n",
    "\n",
    "\n",
    "    "
   ]
  },
  {
   "cell_type": "code",
   "execution_count": 128,
   "metadata": {},
   "outputs": [
    {
     "name": "stdout",
     "output_type": "stream",
     "text": [
      "True\n"
     ]
    }
   ],
   "source": [
    "test = 50\n",
    "x = (test!= 55)\n",
    "\n",
    "if x :\n",
    "    print(x)"
   ]
  },
  {
   "cell_type": "markdown",
   "metadata": {},
   "source": [
    "## Conditional test with lists \n",
    "## IN\n",
    "## NOT IN"
   ]
  },
  {
   "cell_type": "code",
   "execution_count": 129,
   "metadata": {},
   "outputs": [
    {
     "name": "stdout",
     "output_type": "stream",
     "text": [
      "False\n"
     ]
    }
   ],
   "source": [
    "print('downhill' in bicycles)"
   ]
  },
  {
   "cell_type": "code",
   "execution_count": 130,
   "metadata": {},
   "outputs": [
    {
     "name": "stdout",
     "output_type": "stream",
     "text": [
      "True\n"
     ]
    }
   ],
   "source": [
    "print('downhill' not in bicycles)"
   ]
  },
  {
   "cell_type": "code",
   "execution_count": 132,
   "metadata": {},
   "outputs": [],
   "source": [
    "if 'downhill' not in bicycles:\n",
    "    bicycles.append('downhill')"
   ]
  },
  {
   "cell_type": "markdown",
   "metadata": {},
   "source": [
    "Assigning boolean values"
   ]
  },
  {
   "cell_type": "code",
   "execution_count": 133,
   "metadata": {},
   "outputs": [
    {
     "name": "stdout",
     "output_type": "stream",
     "text": [
      "yay\n"
     ]
    }
   ],
   "source": [
    "game_active = True \n",
    "can_edit = False\n",
    "\n",
    "if game_active or can_edit:\n",
    "    print('yay')"
   ]
  },
  {
   "cell_type": "markdown",
   "metadata": {},
   "source": [
    "# Exercise\n",
    "\n",
    "Take a list of numbers\n",
    "and write a program that prints out all the elements of the list that are less than 5."
   ]
  },
  {
   "cell_type": "code",
   "execution_count": 138,
   "metadata": {},
   "outputs": [
    {
     "name": "stdout",
     "output_type": "stream",
     "text": [
      "1\n",
      "1\n",
      "2\n",
      "3\n"
     ]
    }
   ],
   "source": [
    "# set list\n",
    "\n",
    "List = [1, 1, 2, 3, 5, 8, 13, 21, 34, 55, 89]\n",
    "\n",
    "# your code below\n",
    "\n",
    "for x in List:\n",
    "    if x < 5:\n",
    "        print(x)"
   ]
  },
  {
   "cell_type": "code",
   "execution_count": null,
   "metadata": {},
   "outputs": [],
   "source": [
    "for x in List:\n",
    "    if x < 5 : print(x)"
   ]
  },
  {
   "cell_type": "code",
   "execution_count": null,
   "metadata": {},
   "outputs": [],
   "source": [
    "# i want to put in a new list the odd numbers\n",
    "\n",
    "# modulo operation % gives the remainder of division\n",
    "# div operation // that preforms an integer division\n",
    "print(5 % 2)\n",
    "print(5 // 2)"
   ]
  },
  {
   "cell_type": "code",
   "execution_count": 141,
   "metadata": {},
   "outputs": [
    {
     "name": "stdout",
     "output_type": "stream",
     "text": [
      "[1, 1, 3, 5, 13, 21, 55, 89]\n"
     ]
    }
   ],
   "source": [
    "# i want to put in a new list the odd numbers\n",
    "odds = []\n",
    "\n",
    "for x in List:\n",
    "    if x % 2 != 0: odds.append(x)\n",
    "\n",
    "print(odds)"
   ]
  },
  {
   "cell_type": "code",
   "execution_count": 142,
   "metadata": {},
   "outputs": [
    {
     "name": "stdout",
     "output_type": "stream",
     "text": [
      "[1, 1, 3, 5, 13, 21, 55, 89]\n"
     ]
    }
   ],
   "source": [
    "# i want to put in a new list the odd numbers\n",
    "odds = []\n",
    "\n",
    "for x in List:\n",
    "    if x // 2 != x/2: odds.append(x)\n",
    "\n",
    "print(odds)"
   ]
  },
  {
   "cell_type": "code",
   "execution_count": 143,
   "metadata": {},
   "outputs": [
    {
     "name": "stdout",
     "output_type": "stream",
     "text": [
      "[1, 1, 2, 3]\n",
      "4\n"
     ]
    }
   ],
   "source": [
    "Result = [number for number in List if number < 5] \n",
    "print(Result)\n",
    "print(len(Result))"
   ]
  },
  {
   "cell_type": "code",
   "execution_count": null,
   "metadata": {},
   "outputs": [],
   "source": [
    "# initialisation\n",
    "count = 0\n",
    "\n",
    "for x in List:\n",
    "    if x < 5 : \n",
    "        print(x)\n",
    "        count = count + 1\n",
    "print('numbers under 5 : ',count)    "
   ]
  },
  {
   "cell_type": "code",
   "execution_count": null,
   "metadata": {},
   "outputs": [],
   "source": [
    "# extra: create a list of random number using the\n",
    "# random generator below\n",
    "\n"
   ]
  },
  {
   "cell_type": "markdown",
   "metadata": {},
   "source": [
    "# Dictionaries \n",
    "they store connections between pieces of information\n",
    "\n",
    "Each item in a dictionary is a key-value pair"
   ]
  },
  {
   "cell_type": "markdown",
   "metadata": {},
   "source": [
    "Simple dictionaries {}"
   ]
  },
  {
   "cell_type": "code",
   "execution_count": 145,
   "metadata": {},
   "outputs": [],
   "source": [
    "word_frequency = {'Data' : 14, 'Science': 10, 'Machine': 5, 'Learning' : 8}\n",
    "\n",
    "\n",
    "real_dictionary = {'a': 'string that defines a', 'abc': 'definition of abc'}\n",
    "\n",
    "\n",
    "# with different value types\n",
    "car = {'make' : 'Mazda', 'model' : '3 sport', 'engine_size_cc': 2259,\n",
    "       'colour': 'laser blue', 'dimensions_mm' : {'w':1795 , 'l':4465 , 'h':1465}}\n"
   ]
  },
  {
   "cell_type": "markdown",
   "metadata": {},
   "source": [
    "Accessing a value"
   ]
  },
  {
   "cell_type": "code",
   "execution_count": 146,
   "metadata": {},
   "outputs": [
    {
     "name": "stdout",
     "output_type": "stream",
     "text": [
      "The car colour is laser blue\n"
     ]
    }
   ],
   "source": [
    "print(\"The car colour is \" + car['colour'])\n",
    "# dict[key] accesses the value in key , value pair"
   ]
  },
  {
   "cell_type": "code",
   "execution_count": 150,
   "metadata": {},
   "outputs": [
    {
     "name": "stdout",
     "output_type": "stream",
     "text": [
      "{'w': 1795, 'l': 4465, 'h': 1465}\n"
     ]
    }
   ],
   "source": [
    "#write code to retrieve the dictionary inside the dictionary\n",
    "print(car['dimensions_mm'])\n"
   ]
  },
  {
   "cell_type": "code",
   "execution_count": 151,
   "metadata": {},
   "outputs": [
    {
     "name": "stdout",
     "output_type": "stream",
     "text": [
      "car length is 4465 mm\n"
     ]
    }
   ],
   "source": [
    "# retrieve the value in the dictionary inside the dictionary\n",
    "\n",
    "print('car length is', car['dimensions_mm']['l'], 'mm')"
   ]
  },
  {
   "cell_type": "code",
   "execution_count": 152,
   "metadata": {},
   "outputs": [
    {
     "ename": "SyntaxError",
     "evalue": "invalid syntax (<ipython-input-152-5846100e9681>, line 1)",
     "output_type": "error",
     "traceback": [
      "\u001b[1;36m  File \u001b[1;32m\"<ipython-input-152-5846100e9681>\"\u001b[1;36m, line \u001b[1;32m1\u001b[0m\n\u001b[1;33m    Adding a new key-value pair\u001b[0m\n\u001b[1;37m           ^\u001b[0m\n\u001b[1;31mSyntaxError\u001b[0m\u001b[1;31m:\u001b[0m invalid syntax\n"
     ]
    }
   ],
   "source": [
    "Adding a new key-value pair\n",
    "car = {'make' : 'Mazda', 'model' : '3 sport', 'engine_size_cc': 2259,\n",
    "       'colour': 'laser blue', 'dimensions_mm' : {'w':1795 , 'l':4465 , 'h':1465}}\n"
   ]
  },
  {
   "cell_type": "code",
   "execution_count": 155,
   "metadata": {},
   "outputs": [
    {
     "name": "stdout",
     "output_type": "stream",
     "text": [
      "{'make': 'Mazda', 'model': '3 sport', 'engine_size_cc': 2259, 'colour': 'blood red', 'dimensions_mm': {'w': 1795, 'l': 4465, 'h': 1465}, 'transmission_type': 'automatic'}\n"
     ]
    }
   ],
   "source": [
    "car['transmission_type'] = 'automatic'\n",
    "car['colour'] = 'blood red'\n",
    "# dic[key] = value\n",
    "print(car)"
   ]
  },
  {
   "cell_type": "markdown",
   "metadata": {},
   "source": [
    "Values, Keys and Items"
   ]
  },
  {
   "cell_type": "code",
   "execution_count": 154,
   "metadata": {},
   "outputs": [
    {
     "name": "stdout",
     "output_type": "stream",
     "text": [
      "list of tuples in the dictionary \n",
      " dict_items([('make', 'Mazda'), ('model', '3 sport'), ('engine_size_cc', 2259), ('colour', 'laser blue'), ('dimensions_mm', {'w': 1795, 'l': 4465, 'h': 1465}), ('transmission_type', 'automatic')]) \n",
      "\n"
     ]
    }
   ],
   "source": [
    "print('list of tuples in the dictionary','\\n',car.items(),'\\n')  #items() returns tupel"
   ]
  },
  {
   "cell_type": "code",
   "execution_count": 157,
   "metadata": {},
   "outputs": [
    {
     "name": "stdout",
     "output_type": "stream",
     "text": [
      "list of keys \n",
      " dict_keys(['make', 'model', 'engine_size_cc', 'colour', 'dimensions_mm', 'transmission_type']) \n",
      "\n"
     ]
    }
   ],
   "source": [
    "print('list of keys','\\n',car.keys(),'\\n')"
   ]
  },
  {
   "cell_type": "code",
   "execution_count": 158,
   "metadata": {},
   "outputs": [
    {
     "name": "stdout",
     "output_type": "stream",
     "text": [
      "list of values \n",
      " dict_values(['Mazda', '3 sport', 2259, 'blood red', {'w': 1795, 'l': 4465, 'h': 1465}, 'automatic']) \n",
      "\n"
     ]
    }
   ],
   "source": [
    "print('list of values','\\n',car.values(),'\\n')"
   ]
  },
  {
   "cell_type": "markdown",
   "metadata": {},
   "source": [
    "Looping through all keys"
   ]
  },
  {
   "cell_type": "code",
   "execution_count": 156,
   "metadata": {},
   "outputs": [
    {
     "name": "stdout",
     "output_type": "stream",
     "text": [
      "make is a car characteristic\n",
      "model is a car characteristic\n",
      "engine_size_cc is a car characteristic\n",
      "colour is a car characteristic\n",
      "dimensions_mm is a car characteristic\n",
      "transmission_type is a car characteristic\n"
     ]
    }
   ],
   "source": [
    "# for keys in dictionary:\n",
    "\n",
    "for k in car.keys(): \n",
    "    print(k + ' is a car characteristic') "
   ]
  },
  {
   "cell_type": "markdown",
   "metadata": {},
   "source": [
    "Looping through all the values"
   ]
  },
  {
   "cell_type": "code",
   "execution_count": 163,
   "metadata": {},
   "outputs": [
    {
     "name": "stdout",
     "output_type": "stream",
     "text": [
      "Mazda\n",
      "3 sport\n",
      "2259\n",
      "blood red\n",
      "{'w': 1795, 'l': 4465, 'h': 1465}\n",
      "automatic\n"
     ]
    }
   ],
   "source": [
    "# write code to loop through all the values\n",
    "\n",
    "for v in car.values(): \n",
    "    print(v) \n"
   ]
  },
  {
   "cell_type": "markdown",
   "metadata": {},
   "source": [
    "Looping through all key-value pairs"
   ]
  },
  {
   "cell_type": "code",
   "execution_count": 164,
   "metadata": {},
   "outputs": [
    {
     "name": "stdout",
     "output_type": "stream",
     "text": [
      "make is Mazda\n",
      "model is 3 sport\n",
      "engine_size_cc is 2259\n",
      "colour is blood red\n",
      "dimensions_mm is {'w': 1795, 'l': 4465, 'h': 1465}\n",
      "transmission_type is automatic\n"
     ]
    }
   ],
   "source": [
    "for k,v in car.items():\n",
    "    print(k , 'is', v)"
   ]
  },
  {
   "cell_type": "code",
   "execution_count": 165,
   "metadata": {},
   "outputs": [
    {
     "name": "stdout",
     "output_type": "stream",
     "text": [
      "0.6666666666666666\n",
      "3.3333333333333335\n",
      "6.222222222222222\n"
     ]
    }
   ],
   "source": [
    "Tuples_List = [(1,2,3) , (4,5,6) , (7,8,9)]\n",
    "\n",
    "for a , b , c in Tuples_List:\n",
    "    print(a*b/c)\n"
   ]
  },
  {
   "cell_type": "code",
   "execution_count": 167,
   "metadata": {},
   "outputs": [
    {
     "name": "stdout",
     "output_type": "stream",
     "text": [
      "{1: 'Royal Dutch Shell', 2: 'BP', 3: 'Total', 4: 'Volkswagen', 5: 'Glencore Xstrata', 6: 'Gazprom'}\n"
     ]
    }
   ],
   "source": [
    "#Write a Python script to concatenate following dictionaries to create a new one. \n",
    "\n",
    "#Sample Dictionary : \n",
    "dic1={1:'Royal Dutch Shell', 2:'BP'} \n",
    "dic2={3:'Total', 4:'Volkswagen'} \n",
    "dic3={5:'Glencore Xstrata',6:'Gazprom'}\n",
    "\n",
    "# initialisation\n",
    "final_dic = dic1\n",
    "\n",
    "for k,v in dic2.items():\n",
    "    final_dic[k] = v\n",
    "\n",
    "for k,v in dic3.items():\n",
    "    final_dic[k] = v\n",
    "    \n",
    "print(final_dic)\n"
   ]
  },
  {
   "cell_type": "code",
   "execution_count": null,
   "metadata": {},
   "outputs": [],
   "source": [
    "# Write a Python script to check if a given key already exists in a dictionary.\n",
    "\n",
    "test_number = 7\n",
    "key_in_dictionary = False\n",
    "\n",
    "### your code ####\n",
    "        \n",
    "\n",
    "key_in_dictionary = test_number in final_dic.keys()\n",
    "\n",
    "if key_in_dictionary : print(test_number, ' is a key already in the dictionary')\n",
    "else: print(test_number, ' is not a key already in the dictionary')"
   ]
  },
  {
   "cell_type": "markdown",
   "metadata": {},
   "source": [
    "### Programs can prompt the user for input. \n",
    "All input is stored as a string. \n",
    "\n",
    "Prompting for a value"
   ]
  },
  {
   "cell_type": "code",
   "execution_count": 168,
   "metadata": {},
   "outputs": [
    {
     "name": "stdout",
     "output_type": "stream",
     "text": [
      "What's your name? sam\n",
      "Hello, sam!\n"
     ]
    }
   ],
   "source": [
    "# prompting for a value\n",
    "name = input(\"What's your name? \") \n",
    "print(\"Hello, \" + name + \"!\") "
   ]
  },
  {
   "cell_type": "code",
   "execution_count": 171,
   "metadata": {},
   "outputs": [
    {
     "name": "stdout",
     "output_type": "stream",
     "text": [
      "How old are you? 5\n",
      "35\n"
     ]
    }
   ],
   "source": [
    "# prompting for a number\n",
    "\n",
    "age = input(\"How old are you? \") #return a string\n",
    "age = int(age) #convert\n",
    "print(age*7)"
   ]
  },
  {
   "cell_type": "code",
   "execution_count": 170,
   "metadata": {},
   "outputs": [
    {
     "name": "stdout",
     "output_type": "stream",
     "text": [
      "What's the value of pi? 3.14\n",
      "3.14\n"
     ]
    }
   ],
   "source": [
    "pi = input(\"What's the value of pi? \") \n",
    "print(pi)\n",
    "pi = float(pi)"
   ]
  },
  {
   "cell_type": "markdown",
   "metadata": {},
   "source": [
    "# Exercise\n",
    "Create a program that asks the user to enter their name and their age. Print out a message addressed to them that tells them the year that they will turn 100 years old."
   ]
  },
  {
   "cell_type": "code",
   "execution_count": 173,
   "metadata": {},
   "outputs": [
    {
     "name": "stdout",
     "output_type": "stream",
     "text": [
      "What's your name? Sam\n",
      "How old are you? 39\n",
      "Hello, Sam you will turn 100 years old in 2080\n"
     ]
    }
   ],
   "source": [
    "#initialisation\n",
    "current_year = 2019\n",
    "\n",
    "name = input(\"What's your name? \") \n",
    "age = input(\"How old are you? \") #return a string\n",
    "age = int(age) #convert\n",
    "\n",
    "wait = 100 - age\n",
    "year  = current_year + wait\n",
    "\n",
    "print(\"Hello,\", name, 'you will turn 100 years old in', year) "
   ]
  },
  {
   "cell_type": "code",
   "execution_count": 176,
   "metadata": {},
   "outputs": [
    {
     "name": "stdout",
     "output_type": "stream",
     "text": [
      "What month? April\n",
      "No of days 30\n"
     ]
    }
   ],
   "source": [
    "# Write a Python program that prompts for a month name and converts it to a number of days.\n",
    "#List of months: January, February, March, April, May, June, July, August\n",
    "#, September, October, November, December                                \n",
    "\n",
    "# Example\n",
    "#Input the name of Month: February                                       \n",
    "#No. of days: 28/29 days \n",
    "\n",
    "months = {'January': 31, 'February':28, 'March':31, 'April':30, 'May':31, 'June':30, 'July':31, \n",
    "          'August':31, 'September':30, 'October':31, 'November':30, 'December':31}\n",
    "name = input('What month? ')\n",
    "print('No of days',months[name])\n"
   ]
  },
  {
   "cell_type": "code",
   "execution_count": 174,
   "metadata": {},
   "outputs": [
    {
     "name": "stdout",
     "output_type": "stream",
     "text": [
      "502\n",
      "502.75\n",
      "3\n"
     ]
    }
   ],
   "source": [
    "y = 2011//4 # round division\n",
    "z = 2011/4 # standard division\n",
    "w = 2011 % 4 # modulo or remainder\n",
    "print(y)\n",
    "print(z)\n",
    "print(w)"
   ]
  }
 ],
 "metadata": {
  "kernelspec": {
   "display_name": "Python 3",
   "language": "python",
   "name": "python3"
  },
  "language_info": {
   "codemirror_mode": {
    "name": "ipython",
    "version": 3
   },
   "file_extension": ".py",
   "mimetype": "text/x-python",
   "name": "python",
   "nbconvert_exporter": "python",
   "pygments_lexer": "ipython3",
   "version": "3.7.1"
  }
 },
 "nbformat": 4,
 "nbformat_minor": 2
}
